{
 "cells": [
  {
   "cell_type": "code",
   "execution_count": 1,
   "id": "ec7e27a9",
   "metadata": {},
   "outputs": [],
   "source": [
    "# Import Dependencies\n",
    "import pandas as pd"
   ]
  },
  {
   "cell_type": "code",
   "execution_count": 2,
   "id": "005c8963",
   "metadata": {},
   "outputs": [],
   "source": [
    "# Create pathways to csv files\n",
    "csv_path1 = \"../SDP-Interview-ORE/models.csv\"\n",
    "csv_path2 = \"../SDP-Interview-ORE/school-info.csv\""
   ]
  },
  {
   "cell_type": "code",
   "execution_count": 5,
   "id": "2f3bf749",
   "metadata": {},
   "outputs": [
    {
     "data": {
      "text/html": [
       "<div>\n",
       "<style scoped>\n",
       "    .dataframe tbody tr th:only-of-type {\n",
       "        vertical-align: middle;\n",
       "    }\n",
       "\n",
       "    .dataframe tbody tr th {\n",
       "        vertical-align: top;\n",
       "    }\n",
       "\n",
       "    .dataframe thead th {\n",
       "        text-align: right;\n",
       "    }\n",
       "</style>\n",
       "<table border=\"1\" class=\"dataframe\">\n",
       "  <thead>\n",
       "    <tr style=\"text-align: right;\">\n",
       "      <th></th>\n",
       "      <th>Loc</th>\n",
       "      <th>School Name</th>\n",
       "      <th>Model1718</th>\n",
       "      <th>Model1819</th>\n",
       "      <th>BIC1718</th>\n",
       "      <th>BIC1819</th>\n",
       "    </tr>\n",
       "  </thead>\n",
       "  <tbody>\n",
       "    <tr>\n",
       "      <th>0</th>\n",
       "      <td>101</td>\n",
       "      <td>BARTRAM</td>\n",
       "      <td>Cafeteria Only</td>\n",
       "      <td>Cafeteria Only</td>\n",
       "      <td>No BIC</td>\n",
       "      <td>No BIC</td>\n",
       "    </tr>\n",
       "    <tr>\n",
       "      <th>1</th>\n",
       "      <td>102</td>\n",
       "      <td>WEST PHILADELPHIA</td>\n",
       "      <td>Cafeteria Only</td>\n",
       "      <td>Cafeteria Only</td>\n",
       "      <td>No BIC</td>\n",
       "      <td>No BIC</td>\n",
       "    </tr>\n",
       "    <tr>\n",
       "      <th>2</th>\n",
       "      <td>103</td>\n",
       "      <td>SCHOOL OF THE FUTURE</td>\n",
       "      <td>Cafeteria + Cart</td>\n",
       "      <td>Cafeteria + Cart</td>\n",
       "      <td>No BIC</td>\n",
       "      <td>No BIC</td>\n",
       "    </tr>\n",
       "    <tr>\n",
       "      <th>3</th>\n",
       "      <td>105</td>\n",
       "      <td>ROBESON,PAUL -BARTRAM</td>\n",
       "      <td>Cafeteria Only</td>\n",
       "      <td>Cafeteria + Cart</td>\n",
       "      <td>No BIC</td>\n",
       "      <td>No BIC</td>\n",
       "    </tr>\n",
       "    <tr>\n",
       "      <th>4</th>\n",
       "      <td>110</td>\n",
       "      <td>SAYRE</td>\n",
       "      <td>Cafeteria Only</td>\n",
       "      <td>Cafeteria Only</td>\n",
       "      <td>No BIC</td>\n",
       "      <td>No BIC</td>\n",
       "    </tr>\n",
       "  </tbody>\n",
       "</table>\n",
       "</div>"
      ],
      "text/plain": [
       "   Loc            School Name         Model1718         Model1819 BIC1718  \\\n",
       "0  101                BARTRAM    Cafeteria Only    Cafeteria Only  No BIC   \n",
       "1  102      WEST PHILADELPHIA    Cafeteria Only    Cafeteria Only  No BIC   \n",
       "2  103   SCHOOL OF THE FUTURE  Cafeteria + Cart  Cafeteria + Cart  No BIC   \n",
       "3  105  ROBESON,PAUL -BARTRAM    Cafeteria Only  Cafeteria + Cart  No BIC   \n",
       "4  110                  SAYRE    Cafeteria Only    Cafeteria Only  No BIC   \n",
       "\n",
       "  BIC1819  \n",
       "0  No BIC  \n",
       "1  No BIC  \n",
       "2  No BIC  \n",
       "3  No BIC  \n",
       "4  No BIC  "
      ]
     },
     "execution_count": 5,
     "metadata": {},
     "output_type": "execute_result"
    }
   ],
   "source": [
    "#create dataframes\n",
    "models_df = pd.read_csv(csv_path1, encoding=\"utf-8\")\n",
    "models_df.head()"
   ]
  },
  {
   "cell_type": "code",
   "execution_count": null,
   "id": "bc3b2d44",
   "metadata": {},
   "outputs": [],
   "source": []
  }
 ],
 "metadata": {
  "kernelspec": {
   "display_name": "Python 3 (ipykernel)",
   "language": "python",
   "name": "python3"
  },
  "language_info": {
   "codemirror_mode": {
    "name": "ipython",
    "version": 3
   },
   "file_extension": ".py",
   "mimetype": "text/x-python",
   "name": "python",
   "nbconvert_exporter": "python",
   "pygments_lexer": "ipython3",
   "version": "3.9.7"
  }
 },
 "nbformat": 4,
 "nbformat_minor": 5
}
